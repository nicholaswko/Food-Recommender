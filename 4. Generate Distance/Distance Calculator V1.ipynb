{
 "cells": [
  {
   "cell_type": "code",
   "execution_count": 1,
   "metadata": {},
   "outputs": [
    {
     "name": "stdout",
     "output_type": "stream",
     "text": [
      "Requirement already satisfied: googlemaps in /Users/jacky/opt/anaconda3/lib/python3.8/site-packages (4.4.5)\n",
      "Requirement already satisfied: requests<3.0,>=2.20.0 in /Users/jacky/opt/anaconda3/lib/python3.8/site-packages (from googlemaps) (2.24.0)\n",
      "Requirement already satisfied: idna<3,>=2.5 in /Users/jacky/opt/anaconda3/lib/python3.8/site-packages (from requests<3.0,>=2.20.0->googlemaps) (2.10)\n",
      "Requirement already satisfied: chardet<4,>=3.0.2 in /Users/jacky/opt/anaconda3/lib/python3.8/site-packages (from requests<3.0,>=2.20.0->googlemaps) (3.0.4)\n",
      "Requirement already satisfied: urllib3!=1.25.0,!=1.25.1,<1.26,>=1.21.1 in /Users/jacky/opt/anaconda3/lib/python3.8/site-packages (from requests<3.0,>=2.20.0->googlemaps) (1.25.11)\n",
      "Requirement already satisfied: certifi>=2017.4.17 in /Users/jacky/opt/anaconda3/lib/python3.8/site-packages (from requests<3.0,>=2.20.0->googlemaps) (2020.6.20)\n",
      "Note: you may need to restart the kernel to use updated packages.\n"
     ]
    }
   ],
   "source": [
    "pip install googlemaps"
   ]
  },
  {
   "cell_type": "code",
   "execution_count": 2,
   "metadata": {},
   "outputs": [],
   "source": [
    "import pandas as pd\n",
    "from webdriver_manager.chrome import ChromeDriverManager\n",
    "from time import sleep\n",
    "\n",
    "from selenium import webdriver\n",
    "from selenium.webdriver.common.keys import Keys\n",
    "from selenium.webdriver.common.by import By\n",
    "from selenium.webdriver.support.ui import WebDriverWait\n",
    "from selenium.webdriver.chrome.options import Options  \n",
    "from selenium.webdriver.support import expected_conditions as EC\n",
    "from selenium.webdriver.support.ui import Select\n",
    "from selenium.common.exceptions import UnexpectedAlertPresentException"
   ]
  },
  {
   "cell_type": "code",
   "execution_count": 3,
   "metadata": {},
   "outputs": [
    {
     "name": "stderr",
     "output_type": "stream",
     "text": [
      "[WDM] - ====== WebDriver manager ======\n",
      "[WDM] - Current google-chrome version is 90.0.4430\n",
      "[WDM] - Get LATEST driver version for 90.0.4430\n",
      "[WDM] - Driver [/Users/jacky/.wdm/drivers/chromedriver/mac64/90.0.4430.24/chromedriver] found in cache\n"
     ]
    },
    {
     "name": "stdout",
     "output_type": "stream",
     "text": [
      "\n",
      "\n"
     ]
    }
   ],
   "source": [
    "driver = webdriver.Chrome(ChromeDriverManager().install())\n",
    "\n",
    "starting_location = \"Meadows @ Pierce\"\n",
    "\n",
    "ending_location = \"Singapore 188867\"\n",
    "\n",
    "url_link = f\"https://www.google.com.sg/maps/dir/{starting_location}/{ending_location}\"\n",
    "\n",
    "driver.get(url_link)"
   ]
  },
  {
   "cell_type": "raw",
   "metadata": {},
   "source": [
    "time = driver.find_element_by_xpath(\"//span[@jstcache='271']\").text\n",
    "distance = driver.find_element_by_xpath(\"//div[@jstcache='278']\").text"
   ]
  },
  {
   "cell_type": "raw",
   "metadata": {},
   "source": [
    "time"
   ]
  },
  {
   "cell_type": "raw",
   "metadata": {},
   "source": [
    "distance"
   ]
  },
  {
   "cell_type": "raw",
   "metadata": {},
   "source": [
    "test = driver.find_elements(By.XPATH, (\"//button[@jstcache='514']\"))"
   ]
  },
  {
   "cell_type": "raw",
   "metadata": {},
   "source": [
    "test.send_keys(Keys.ARROW_UP)"
   ]
  },
  {
   "cell_type": "markdown",
   "metadata": {},
   "source": [
    "### Scraping distance by Selenium"
   ]
  },
  {
   "cell_type": "raw",
   "metadata": {},
   "source": [
    "def get_distance(driver, start_point, end_point, travel_type):\n",
    "#     chrome_options = Options()\n",
    "#     chrome_options.add_argument(\"--headless\") \n",
    "#     driver = webdriver.Chrome(ChromeDriverManager().install(), options = chrome_options)\n",
    "    \n",
    "    url_link = f\"https://www.google.com.sg/maps/dir/{start_point}/{end_point}\"\n",
    "    driver.get(url_link)\n",
    "    sleep(0.5)\n",
    "    travel_modes = WebDriverWait(driver,2).until(\n",
    "        EC.presence_of_all_elements_located((By.XPATH, (\"//button\"))))\n",
    "    \n",
    "    # 2: Car, 3: Public Transport, 4: Walking\n",
    "    \n",
    "    selected = travel_modes[travel_type].click()\n",
    "    \n",
    "    if travel_type == 2:\n",
    "        sleep(0.5)\n",
    "        time = WebDriverWait(driver,2).until(\n",
    "            EC.presence_of_element_located((By.XPATH, \"//span[@jstcache='271']\"))).text\n",
    "\n",
    "        distance = driver.find_element_by_xpath(\"//div[@jstcache='278']\").text\n",
    "    \n",
    "    elif travel_type == 3:\n",
    "        sleep(0.5)\n",
    "        time = WebDriverWait(driver,3).until(\n",
    "            EC.presence_of_element_located((By.XPATH, \"//div[@class='section-directions-trip-duration']\"))).text\n",
    "\n",
    "        distance = None\n",
    "        \n",
    "    else:\n",
    "        sleep(0.5)\n",
    "        time = WebDriverWait(driver,2).until(\n",
    "            EC.presence_of_element_located((By.XPATH, \"//div[@jstcache='410']\"))).text\n",
    "\n",
    "        distance = driver.find_element_by_xpath(\"//div[@jstcache='411']\").text\n",
    "    \n",
    "    # driver.quit()\n",
    "    \n",
    "    return time, distance"
   ]
  },
  {
   "cell_type": "raw",
   "metadata": {},
   "source": [
    "get_distance(driver, \"AMK Hub\", \"NTU SRC\", 4)"
   ]
  },
  {
   "cell_type": "raw",
   "metadata": {},
   "source": [
    "streets = pd.read_excel(\"Street Names.xlsx\")\n",
    "stalls = pd.read_csv(\"Final_list.csv\")\n",
    "\n",
    "stalls.head()\n",
    "# streets.head()"
   ]
  },
  {
   "cell_type": "raw",
   "metadata": {},
   "source": [
    "# chrome_options = Options()\n",
    "# chrome_options.add_argument(\"--headless\") \n",
    "\n",
    "driver = webdriver.Chrome(ChromeDriverManager().install())#, options = chrome_options)\n",
    "\n",
    "for i in range(5):  \n",
    "    print(get_distance(driver, streets.iloc[0,0], stalls.iloc[i,7][-6:],4))\n",
    "    \n",
    "driver.quit()"
   ]
  },
  {
   "cell_type": "code",
   "execution_count": null,
   "metadata": {},
   "outputs": [],
   "source": []
  },
  {
   "cell_type": "code",
   "execution_count": null,
   "metadata": {},
   "outputs": [],
   "source": []
  }
 ],
 "metadata": {
  "kernelspec": {
   "display_name": "Python 3",
   "language": "python",
   "name": "python3"
  },
  "language_info": {
   "codemirror_mode": {
    "name": "ipython",
    "version": 3
   },
   "file_extension": ".py",
   "mimetype": "text/x-python",
   "name": "python",
   "nbconvert_exporter": "python",
   "pygments_lexer": "ipython3",
   "version": "3.8.5"
  }
 },
 "nbformat": 4,
 "nbformat_minor": 4
}
